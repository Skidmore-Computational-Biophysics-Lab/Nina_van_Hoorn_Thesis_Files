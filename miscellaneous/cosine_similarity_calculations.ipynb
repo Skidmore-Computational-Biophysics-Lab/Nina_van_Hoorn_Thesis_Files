{
 "cells": [
  {
   "cell_type": "markdown",
   "id": "e9f4e2a6-5f1b-4a6f-b3c9-d554df487ebd",
   "metadata": {},
   "source": [
    "File to manually compute the cosign between the vectors of the mutated and WT simulations at simulation time one. This is to make sure that the angle between these vectors is small; if it is large, there must be some problem with aligning the structures."
   ]
  },
  {
   "cell_type": "code",
   "execution_count": 1,
   "id": "75b281cb-a3ab-4918-aa11-f8f2900fb932",
   "metadata": {},
   "outputs": [],
   "source": [
    "import matplotlib.pyplot as plt\n",
    "import matplotlib.cm as cm\n",
    "from matplotlib.colors import LogNorm\n",
    "\n",
    "import mdtraj as md\n",
    "import numpy as np\n",
    "import matplotlib.pyplot as plt\n",
    "import numpy as np\n",
    "\n",
    "from sklearn.metrics.pairwise import cosine_similarity\n",
    "\n",
    "from sklearn.preprocessing import StandardScaler"
   ]
  },
  {
   "cell_type": "markdown",
   "id": "73bdd8a8-81e1-4192-b59e-ba7a0ecbf059",
   "metadata": {},
   "source": [
    "## Frame One"
   ]
  },
  {
   "cell_type": "code",
   "execution_count": 2,
   "id": "46f9bd24-e3bc-46c7-b6e1-ba75e2688dc0",
   "metadata": {},
   "outputs": [],
   "source": [
    "# Load in the first frames from both types of simulations:\n",
    "traj_new = []\n",
    "traj_new.append(md.load_netcdf(\"/data/nvanhoorn/A3F_newstructure/VCBC_A3F_GLU_mut/redoing_everything/mdcrd/VCBC-A3F_GLU_mut_sims1-8_first300_noBox.mdcrd\", \n",
    "                          top=\"/data/nvanhoorn/A3F_newstructure/VCBC_A3F_GLU_mut/redoing_everything/VCBC-A3F_GLU_mut_nowat.prmtop\", frame=0))\n",
    "\n",
    "traj_new.append(md.load_netcdf(\"/data/nvanhoorn/A3F_newstructure/VCBC_A3F_GLU_mut/redoing_everything/WT_files/VCBC-A3F_WT_sims1-8_first300_noBox.mdcrd\", \n",
    "                          top=\"/data/nvanhoorn/A3F_newstructure/VCBC_A3F_GLU_mut/redoing_everything/WT_files/VCBC-A3F_WT_nowat.prmtop\", frame=0))"
   ]
  },
  {
   "cell_type": "code",
   "execution_count": 3,
   "id": "13f4b3d1-a985-4885-ab72-0571c9a01a4b",
   "metadata": {},
   "outputs": [],
   "source": [
    "# Load in the starting structure:\n",
    "starting_struct = md.load_pdb(\"/data/nvanhoorn/A3F_newstructure/VCBC_A3F_GLU_mut/redoing_everything/WT_files/VCBC-A3F_WT_tleap.pdb\")"
   ]
  },
  {
   "cell_type": "code",
   "execution_count": 4,
   "id": "6759064e-d6fc-474f-80eb-c96a80ec5829",
   "metadata": {},
   "outputs": [
    {
     "name": "stdout",
     "output_type": "stream",
     "text": [
      "[5.] [5.]\n"
     ]
    }
   ],
   "source": [
    "# the simulations time in picosecond:\n",
    "print(traj_new[0].time, traj_new[1].time)"
   ]
  },
  {
   "cell_type": "code",
   "execution_count": 5,
   "id": "91524a0d-abf0-475e-ade5-35e1cda3407f",
   "metadata": {},
   "outputs": [
    {
     "data": {
      "text/plain": [
       "<mdtraj.Trajectory with 1 frames, 2968 atoms, 178 residues, without unitcells at 0x1554126f8770>"
      ]
     },
     "execution_count": 5,
     "metadata": {},
     "output_type": "execute_result"
    }
   ],
   "source": [
    "#remove the atoms that are not a part of the backbone:\n",
    "traj_new[0].atom_slice(traj_new[0].topology.select('backbone'), inplace=True)\n",
    "traj_new[1].atom_slice(traj_new[1].topology.select('backbone'), inplace=True)\n",
    "starting_struct.atom_slice(traj_new[1].topology.select('backbone'), inplace=True)"
   ]
  },
  {
   "cell_type": "code",
   "execution_count": 6,
   "id": "620cf445-5860-4bdc-89db-d7a8eafff588",
   "metadata": {},
   "outputs": [
    {
     "data": {
      "text/plain": [
       "<mdtraj.Trajectory with 1 frames, 2968 atoms, 742 residues, without unitcells at 0x15541392bef0>"
      ]
     },
     "execution_count": 6,
     "metadata": {},
     "output_type": "execute_result"
    }
   ],
   "source": [
    "traj_new[0]"
   ]
  },
  {
   "cell_type": "code",
   "execution_count": 7,
   "id": "5212c93a-a4fa-4b26-b13b-c5af1f703f9d",
   "metadata": {},
   "outputs": [
    {
     "data": {
      "text/plain": [
       "<mdtraj.Trajectory with 1 frames, 2968 atoms, 742 residues, without unitcells at 0x1554120bc0b0>"
      ]
     },
     "execution_count": 7,
     "metadata": {},
     "output_type": "execute_result"
    }
   ],
   "source": [
    "traj_new[1]"
   ]
  },
  {
   "cell_type": "code",
   "execution_count": 8,
   "id": "1f0cb39b-6382-4780-820a-3e007f4fede8",
   "metadata": {},
   "outputs": [
    {
     "data": {
      "text/plain": [
       "<mdtraj.Trajectory with 1 frames, 2968 atoms, 178 residues, without unitcells at 0x1554126f8770>"
      ]
     },
     "execution_count": 8,
     "metadata": {},
     "output_type": "execute_result"
    }
   ],
   "source": [
    "# align the two trajectories and the starting structure:\n",
    "traj_new[1].superpose(reference = traj_new[0])\n",
    "traj_new[0].superpose(reference = traj_new[0])\n",
    "starting_struct.superpose(reference = traj_new[0])"
   ]
  },
  {
   "cell_type": "code",
   "execution_count": 9,
   "id": "a02502e8-592a-42d6-b422-017210782bc7",
   "metadata": {},
   "outputs": [
    {
     "name": "stdout",
     "output_type": "stream",
     "text": [
      "(1, 2968, 3) (1, 2968, 3) (1, 2968, 3)\n"
     ]
    }
   ],
   "source": [
    "# extract the x,y,z coordinates from the trajectory objects\n",
    "coordinatesGLU = traj_new[0].xyz\n",
    "coordinatesWT = traj_new[1].xyz\n",
    "Startcoordinates = starting_struct.xyz\n",
    "\n",
    "print(coordinatesGLU.shape, coordinatesWT.shape, Startcoordinates.shape)"
   ]
  },
  {
   "cell_type": "code",
   "execution_count": 10,
   "id": "70c3ef29-ae55-4b5b-9173-fa2c3bc6dabb",
   "metadata": {},
   "outputs": [
    {
     "name": "stdout",
     "output_type": "stream",
     "text": [
      "(1, 8904) (1, 8904) (1, 8904)\n"
     ]
    }
   ],
   "source": [
    "# Flatten to (n_frames, n_atoms * 3)\n",
    "coordinatesGLU = coordinatesGLU.reshape(coordinatesGLU.shape[0], -1) \n",
    "coordinatesWT = coordinatesWT.reshape(coordinatesWT.shape[0], -1)\n",
    "Startcoordinates = Startcoordinates.reshape(Startcoordinates.shape[0], -1)\n",
    "print(coordinatesGLU.shape, coordinatesWT.shape, Startcoordinates.shape)"
   ]
  },
  {
   "cell_type": "code",
   "execution_count": 11,
   "id": "d988148d-d0c3-4637-ab13-953ef961415d",
   "metadata": {},
   "outputs": [
    {
     "name": "stdout",
     "output_type": "stream",
     "text": [
      "Cosine Similarity between WT and GLU: 0.9996817708015442\n",
      "Cosine Similarity between GLU and the starting structure: 0.9633190631866455\n",
      "Cosine Similarity between WT and the starting structure: 0.9645692706108093\n"
     ]
    }
   ],
   "source": [
    "# Calculate the cosign similarity between the two vectors\n",
    "# https://datastax.medium.com/how-to-implement-cosine-similarity-in-python-505e8ec1d823#:~:text=Cosine%20similarity%20formula&text=It's%20calculated%20as%20%7C%7CA,way%20as%20%7C%7CA%7C%7C.\n",
    "\n",
    "cosine_similarity_result1 = cosine_similarity(coordinatesGLU, coordinatesWT)\n",
    "print(f\"Cosine Similarity between WT and GLU: {cosine_similarity_result1[0][0]}\")\n",
    "\n",
    "cosine_similarity_result2 = cosine_similarity(coordinatesGLU, Startcoordinates)\n",
    "print(f\"Cosine Similarity between GLU and the starting structure: {cosine_similarity_result2[0][0]}\")\n",
    "\n",
    "cosine_similarity_result3 = cosine_similarity(coordinatesWT, Startcoordinates)\n",
    "print(f\"Cosine Similarity between WT and the starting structure: {cosine_similarity_result3[0][0]}\")\n"
   ]
  },
  {
   "cell_type": "code",
   "execution_count": null,
   "id": "880cf044-0b85-4ad1-a676-12ce1cb10b9b",
   "metadata": {},
   "outputs": [],
   "source": []
  },
  {
   "cell_type": "markdown",
   "id": "fefba6a5-f16b-451a-bcf3-7682ff079bcf",
   "metadata": {},
   "source": [
    "From this, it appears that the GLU and WT cosign similarity is very close to one, meaning they are nearly identical. It is interesting that both of the simulations have vectors that differ more from the starting structure, though this could be because the starting frames are from the simulations after they underwent the equillibration process, so they had some time to move away from the starting structure to a more stable conformation."
   ]
  },
  {
   "cell_type": "code",
   "execution_count": null,
   "id": "14a02f66-7adb-4dfc-8d19-0d78bc48278d",
   "metadata": {},
   "outputs": [],
   "source": []
  },
  {
   "cell_type": "markdown",
   "id": "0269c44a-2211-4d0a-92b9-aff756740c2d",
   "metadata": {},
   "source": [
    "## Last Frame"
   ]
  },
  {
   "cell_type": "markdown",
   "id": "11df30c3-c8fd-4a38-846b-2f52a5ba5b90",
   "metadata": {},
   "source": [
    "I'm also going to compare the cosign similarities from a later point in the simulations to see if the simulations do, in fact, move away from each other and the cosign similarity gets smaller. "
   ]
  },
  {
   "cell_type": "code",
   "execution_count": 12,
   "id": "8d671126-036d-4c5d-85d6-c8c89d5423fd",
   "metadata": {},
   "outputs": [],
   "source": [
    "# Load in the last frame from the first independent simulation from both types of simulations:\n",
    "traj_late = []\n",
    "traj_late.append(md.load_netcdf(\"/data/nvanhoorn/A3F_newstructure/VCBC_A3F_GLU_mut/redoing_everything/mdcrd/VCBC-A3F_GLU_mut_sims1-8_first300_noBox.mdcrd\", \n",
    "                          top=\"/data/nvanhoorn/A3F_newstructure/VCBC_A3F_GLU_mut/redoing_everything/VCBC-A3F_GLU_mut_nowat.prmtop\", frame=49999))\n",
    "\n",
    "traj_late.append(md.load_netcdf(\"/data/nvanhoorn/A3F_newstructure/VCBC_A3F_GLU_mut/redoing_everything/WT_files/VCBC-A3F_WT_sims1-8_first300_noBox.mdcrd\", \n",
    "                          top=\"/data/nvanhoorn/A3F_newstructure/VCBC_A3F_GLU_mut/redoing_everything/WT_files/VCBC-A3F_WT_nowat.prmtop\", frame=49999))"
   ]
  },
  {
   "cell_type": "code",
   "execution_count": 13,
   "id": "12a8b588-8a74-4b94-9b28-c60a7822cf12",
   "metadata": {},
   "outputs": [
    {
     "name": "stdout",
     "output_type": "stream",
     "text": [
      "[250000.] [250000.]\n"
     ]
    }
   ],
   "source": [
    "# the simulations time in picosecond:\n",
    "print(traj_late[0].time, traj_late[1].time)"
   ]
  },
  {
   "cell_type": "code",
   "execution_count": 14,
   "id": "c8cdcc2d-bf08-423a-9b68-5161c1fa4533",
   "metadata": {},
   "outputs": [
    {
     "data": {
      "text/plain": [
       "<mdtraj.Trajectory with 1 frames, 2968 atoms, 742 residues, without unitcells at 0x155412593fe0>"
      ]
     },
     "execution_count": 14,
     "metadata": {},
     "output_type": "execute_result"
    }
   ],
   "source": [
    "#remove the atoms that are not a part of the backbone:\n",
    "traj_late[0].atom_slice(traj_late[0].topology.select('backbone'), inplace=True)\n",
    "traj_late[1].atom_slice(traj_late[1].topology.select('backbone'), inplace=True)"
   ]
  },
  {
   "cell_type": "code",
   "execution_count": 15,
   "id": "1f3d4457-2d8c-4c93-a3eb-1958a362300d",
   "metadata": {},
   "outputs": [
    {
     "data": {
      "text/plain": [
       "<mdtraj.Trajectory with 1 frames, 2968 atoms, 178 residues, without unitcells at 0x1554126f8770>"
      ]
     },
     "execution_count": 15,
     "metadata": {},
     "output_type": "execute_result"
    }
   ],
   "source": [
    "# align the two trajectories and the starting structure:\n",
    "traj_late[1].superpose(reference = traj_late[0])\n",
    "traj_late[0].superpose(reference = traj_late[0])\n",
    "starting_struct.superpose(reference = traj_late[0])"
   ]
  },
  {
   "cell_type": "code",
   "execution_count": 16,
   "id": "c6f4fc91-37ac-41ad-a6a8-169232494ebb",
   "metadata": {},
   "outputs": [
    {
     "name": "stdout",
     "output_type": "stream",
     "text": [
      "(1, 2968, 3) (1, 2968, 3) (1, 2968, 3)\n"
     ]
    }
   ],
   "source": [
    "# extract the x,y,z coordinates from the trajectory objects\n",
    "late_coordinatesGLU = traj_late[0].xyz\n",
    "late_coordinatesWT = traj_late[1].xyz\n",
    "Startcoordinates = starting_struct.xyz\n",
    "\n",
    "print(late_coordinatesGLU.shape, late_coordinatesWT.shape, Startcoordinates.shape)"
   ]
  },
  {
   "cell_type": "code",
   "execution_count": 17,
   "id": "ddc3c74c-c1f5-4b9c-b1b5-4697b33479af",
   "metadata": {},
   "outputs": [
    {
     "name": "stdout",
     "output_type": "stream",
     "text": [
      "(1, 8904) (1, 8904) (1, 8904)\n"
     ]
    }
   ],
   "source": [
    "# Flatten to (n_frames, n_atoms * 3)\n",
    "late_coordinatesGLU = late_coordinatesGLU.reshape(late_coordinatesGLU.shape[0], -1) \n",
    "late_coordinatesWT = late_coordinatesWT.reshape(late_coordinatesWT.shape[0], -1)\n",
    "Startcoordinates = Startcoordinates.reshape(Startcoordinates.shape[0], -1)\n",
    "print(late_coordinatesGLU.shape, late_coordinatesWT.shape, Startcoordinates.shape)"
   ]
  },
  {
   "cell_type": "code",
   "execution_count": 18,
   "id": "d708427c-95a7-4657-8cbe-a589818894ca",
   "metadata": {},
   "outputs": [
    {
     "name": "stdout",
     "output_type": "stream",
     "text": [
      "Cosine Similarity between WT and GLU: 0.9987751841545105\n",
      "Cosine Similarity between GLU and the starting structure: 0.9629177451133728\n",
      "Cosine Similarity between WT and the starting structure: 0.9638996124267578\n"
     ]
    }
   ],
   "source": [
    "# Calculate the cosign similarity between the two vectors\n",
    "# https://datastax.medium.com/how-to-implement-cosine-similarity-in-python-505e8ec1d823#:~:text=Cosine%20similarity%20formula&text=It's%20calculated%20as%20%7C%7CA,way%20as%20%7C%7CA%7C%7C.\n",
    "\n",
    "late_cosine_similarity_result1 = cosine_similarity(late_coordinatesGLU, late_coordinatesWT)\n",
    "print(f\"Cosine Similarity between WT and GLU: {late_cosine_similarity_result1[0][0]}\")\n",
    "\n",
    "late_cosine_similarity_result2 = cosine_similarity(late_coordinatesGLU, Startcoordinates)\n",
    "print(f\"Cosine Similarity between GLU and the starting structure: {late_cosine_similarity_result2[0][0]}\")\n",
    "\n",
    "late_cosine_similarity_result3 = cosine_similarity(late_coordinatesWT, Startcoordinates)\n",
    "print(f\"Cosine Similarity between WT and the starting structure: {late_cosine_similarity_result3[0][0]}\")"
   ]
  },
  {
   "cell_type": "markdown",
   "id": "6cf7ad65-28d7-4c47-afa4-87e263319558",
   "metadata": {},
   "source": [
    "Even after 250000 picoseconds of simulation time, the cosign similarity between the two simulations is very close to one. This likely means the complexes are not diverging from each other in terms of structure, but the similarity could possibly be because I algined the backbone for just these two frames (as opposed to aligning everything to the first frame of the GLU simulation data)."
   ]
  },
  {
   "cell_type": "code",
   "execution_count": null,
   "id": "f3053157-fc61-4de9-88b3-bbb80fd46dec",
   "metadata": {},
   "outputs": [],
   "source": []
  },
  {
   "cell_type": "markdown",
   "id": "fce50136-5e00-4317-a17b-db74f413dcbd",
   "metadata": {},
   "source": [
    "## Middle Frame"
   ]
  },
  {
   "cell_type": "code",
   "execution_count": 19,
   "id": "9619f2e9-12b0-41f3-b178-d6679524a4d5",
   "metadata": {},
   "outputs": [],
   "source": [
    "# Load in the middle frame from the first independent simulation from both types of simulations:\n",
    "traj_mid = []\n",
    "traj_mid.append(md.load_netcdf(\"/data/nvanhoorn/A3F_newstructure/VCBC_A3F_GLU_mut/redoing_everything/mdcrd/VCBC-A3F_GLU_mut_sims1-8_first300_noBox.mdcrd\", \n",
    "                          top=\"/data/nvanhoorn/A3F_newstructure/VCBC_A3F_GLU_mut/redoing_everything/VCBC-A3F_GLU_mut_nowat.prmtop\", frame=25000))\n",
    "\n",
    "traj_mid.append(md.load_netcdf(\"/data/nvanhoorn/A3F_newstructure/VCBC_A3F_GLU_mut/redoing_everything/WT_files/VCBC-A3F_WT_sims1-8_first300_noBox.mdcrd\", \n",
    "                          top=\"/data/nvanhoorn/A3F_newstructure/VCBC_A3F_GLU_mut/redoing_everything/WT_files/VCBC-A3F_WT_nowat.prmtop\", frame=25000))"
   ]
  },
  {
   "cell_type": "code",
   "execution_count": 20,
   "id": "7136a6d9-1c4d-4d9e-b559-c9eac2046630",
   "metadata": {},
   "outputs": [
    {
     "name": "stdout",
     "output_type": "stream",
     "text": [
      "[125005.] [125005.]\n"
     ]
    }
   ],
   "source": [
    "# the simulations time in picosecond:\n",
    "print(traj_mid[0].time, traj_mid[1].time)"
   ]
  },
  {
   "cell_type": "code",
   "execution_count": 21,
   "id": "a7f9231a-0150-4701-88c3-fb459dbdf90d",
   "metadata": {},
   "outputs": [
    {
     "data": {
      "text/plain": [
       "<mdtraj.Trajectory with 1 frames, 2968 atoms, 742 residues, without unitcells at 0x1554120b60f0>"
      ]
     },
     "execution_count": 21,
     "metadata": {},
     "output_type": "execute_result"
    }
   ],
   "source": [
    "#remove the atoms that are not a part of the backbone:\n",
    "traj_mid[0].atom_slice(traj_mid[0].topology.select('backbone'), inplace=True)\n",
    "traj_mid[1].atom_slice(traj_mid[1].topology.select('backbone'), inplace=True)"
   ]
  },
  {
   "cell_type": "code",
   "execution_count": 22,
   "id": "b24ab116-54db-483b-850e-ac833259745e",
   "metadata": {},
   "outputs": [
    {
     "data": {
      "text/plain": [
       "<mdtraj.Trajectory with 1 frames, 2968 atoms, 178 residues, without unitcells at 0x1554126f8770>"
      ]
     },
     "execution_count": 22,
     "metadata": {},
     "output_type": "execute_result"
    }
   ],
   "source": [
    "# align the two trajectories and the starting structure:\n",
    "traj_mid[1].superpose(reference = traj_mid[0])\n",
    "traj_late[0].superpose(reference = traj_late[0])\n",
    "starting_struct.superpose(reference = traj_mid[0])"
   ]
  },
  {
   "cell_type": "code",
   "execution_count": 23,
   "id": "d92b4dd1-7d9b-44c2-aa47-0a675a3d2c93",
   "metadata": {},
   "outputs": [
    {
     "name": "stdout",
     "output_type": "stream",
     "text": [
      "(1, 2968, 3) (1, 2968, 3) (1, 2968, 3)\n"
     ]
    }
   ],
   "source": [
    "# extract the x,y,z coordinates from the trajectory objects\n",
    "mid_coordinatesGLU = traj_mid[0].xyz\n",
    "mid_coordinatesWT = traj_mid[1].xyz\n",
    "Startcoordinates = starting_struct.xyz\n",
    "\n",
    "print(mid_coordinatesGLU.shape, mid_coordinatesWT.shape, Startcoordinates.shape)"
   ]
  },
  {
   "cell_type": "code",
   "execution_count": 24,
   "id": "53a44aaf-f477-457a-a085-154677eaeed4",
   "metadata": {},
   "outputs": [
    {
     "name": "stdout",
     "output_type": "stream",
     "text": [
      "(1, 8904) (1, 8904) (1, 8904)\n"
     ]
    }
   ],
   "source": [
    "# Flatten to (n_frames, n_atoms * 3)\n",
    "mid_coordinatesGLU = mid_coordinatesGLU.reshape(mid_coordinatesGLU.shape[0], -1) \n",
    "mid_coordinatesWT = mid_coordinatesWT.reshape(mid_coordinatesWT.shape[0], -1)\n",
    "Startcoordinates = Startcoordinates.reshape(Startcoordinates.shape[0], -1)\n",
    "print(mid_coordinatesGLU.shape, mid_coordinatesWT.shape, Startcoordinates.shape)"
   ]
  },
  {
   "cell_type": "code",
   "execution_count": 25,
   "id": "bbbda737-748e-4953-9365-43a8764b9cb4",
   "metadata": {},
   "outputs": [
    {
     "name": "stdout",
     "output_type": "stream",
     "text": [
      "Cosine Similarity between WT and GLU: 0.9995341300964355\n",
      "Cosine Similarity between GLU and the starting structure: 0.9593423008918762\n",
      "Cosine Similarity between WT and the starting structure: 0.960163950920105\n"
     ]
    }
   ],
   "source": [
    "# Calculate the cosign similarity between the two vectors\n",
    "# https://datastax.medium.com/how-to-implement-cosine-similarity-in-python-505e8ec1d823#:~:text=Cosine%20similarity%20formula&text=It's%20calculated%20as%20%7C%7CA,way%20as%20%7C%7CA%7C%7C.\n",
    "\n",
    "mid_cosine_similarity_result1 = cosine_similarity(mid_coordinatesGLU, mid_coordinatesWT)\n",
    "print(f\"Cosine Similarity between WT and GLU: {mid_cosine_similarity_result1[0][0]}\")\n",
    "\n",
    "mid_cosine_similarity_result2 = cosine_similarity(mid_coordinatesGLU, Startcoordinates)\n",
    "print(f\"Cosine Similarity between GLU and the starting structure: {mid_cosine_similarity_result2[0][0]}\")\n",
    "\n",
    "mid_cosine_similarity_result3 = cosine_similarity(mid_coordinatesWT, Startcoordinates)\n",
    "print(f\"Cosine Similarity between WT and the starting structure: {mid_cosine_similarity_result3[0][0]}\")"
   ]
  },
  {
   "cell_type": "code",
   "execution_count": null,
   "id": "6fd0c51f-a9e3-4f68-8580-29f57c537eb0",
   "metadata": {},
   "outputs": [],
   "source": []
  },
  {
   "cell_type": "code",
   "execution_count": 26,
   "id": "5957d5e0-8671-468a-90d4-d500e9e408a3",
   "metadata": {},
   "outputs": [
    {
     "name": "stdout",
     "output_type": "stream",
     "text": [
      "Cosine Difference (last-first frame) between WT and GLU: -0.0009065866470336914\n",
      "Cosine Difference (last-first frame) between GLU and the starting structure: -0.0004013180732727051\n",
      "Cosine Difference (last-first frame) between WT and the starting structure: -0.0006696581840515137\n"
     ]
    }
   ],
   "source": [
    "print(f\"Cosine Difference (last-first frame) between WT and GLU: {late_cosine_similarity_result1[0][0] - cosine_similarity_result1[0][0]}\")\n",
    "print(f\"Cosine Difference (last-first frame) between GLU and the starting structure: {late_cosine_similarity_result2[0][0] - cosine_similarity_result2[0][0]}\")\n",
    "print(f\"Cosine Difference (last-first frame) between WT and the starting structure: {late_cosine_similarity_result3[0][0] - cosine_similarity_result3[0][0]}\")"
   ]
  },
  {
   "cell_type": "code",
   "execution_count": 27,
   "id": "3567f734-15ff-470a-9961-db6fff24a979",
   "metadata": {},
   "outputs": [
    {
     "name": "stdout",
     "output_type": "stream",
     "text": [
      "Cosine Difference (mid-first frame) between WT and GLU: -0.00014764070510864258\n",
      "Cosine Difference (mid-first frame) between GLU and the starting structure: -0.003976762294769287\n",
      "Cosine Difference (mid-first frame) between WT and the starting structure: -0.004405319690704346\n"
     ]
    }
   ],
   "source": [
    "print(f\"Cosine Difference (mid-first frame) between WT and GLU: {mid_cosine_similarity_result1[0][0] - cosine_similarity_result1[0][0]}\")\n",
    "print(f\"Cosine Difference (mid-first frame) between GLU and the starting structure: {mid_cosine_similarity_result2[0][0] - cosine_similarity_result2[0][0]}\")\n",
    "print(f\"Cosine Difference (mid-first frame) between WT and the starting structure: {mid_cosine_similarity_result3[0][0] - cosine_similarity_result3[0][0]}\")"
   ]
  },
  {
   "cell_type": "code",
   "execution_count": null,
   "id": "2f3e6dbb-deee-4c79-a4af-ba2e94c3f510",
   "metadata": {},
   "outputs": [],
   "source": []
  }
 ],
 "metadata": {
  "kernelspec": {
   "display_name": "Python 3 (ipykernel)",
   "language": "python",
   "name": "python3"
  },
  "language_info": {
   "codemirror_mode": {
    "name": "ipython",
    "version": 3
   },
   "file_extension": ".py",
   "mimetype": "text/x-python",
   "name": "python",
   "nbconvert_exporter": "python",
   "pygments_lexer": "ipython3",
   "version": "3.12.2"
  }
 },
 "nbformat": 4,
 "nbformat_minor": 5
}
